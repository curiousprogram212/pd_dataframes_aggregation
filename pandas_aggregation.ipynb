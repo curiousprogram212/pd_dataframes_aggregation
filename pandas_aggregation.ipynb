{
  "nbformat": 4,
  "nbformat_minor": 0,
  "metadata": {
    "colab": {
      "provenance": []
    },
    "kernelspec": {
      "name": "python3",
      "display_name": "Python 3"
    },
    "language_info": {
      "name": "python"
    }
  },
  "cells": [
    {
      "cell_type": "code",
      "execution_count": null,
      "metadata": {
        "id": "9Y5hRlJBbRIc"
      },
      "outputs": [],
      "source": [
        "import numpy as np\n",
        "import pandas as pd\n",
        "\n",
        "fb = pd.read_csv('data/fb_2018.csv', index_col='date', parse_dates=True).assign(\n",
        "    trading_volume=lambda x: pd.cut(x.volume, bins=3, labels=['low', 'med', 'high'])\n",
        ")\n",
        "fb.head()"
      ]
    },
    {
      "cell_type": "code",
      "source": [
        "weather = pd.read_csv('data/weather_by_station.csv', index_col='date', parse_dates=True)\n",
        "weather.head()\n"
      ],
      "metadata": {
        "id": "B7whpdqKbTw9"
      },
      "execution_count": null,
      "outputs": []
    },
    {
      "cell_type": "code",
      "source": [
        "pd.set_option('display.float_format', lambda x: '%.2f' % x)\n"
      ],
      "metadata": {
        "id": "SboMrZSkbVa7"
      },
      "execution_count": null,
      "outputs": []
    },
    {
      "cell_type": "code",
      "source": [
        "fb.agg({\n",
        "    'open': np.mean,\n",
        "    'high': np.max,\n",
        "    'low': np.min,\n",
        "    'close': np.mean,\n",
        "    'volume': np.sum\n",
        "})"
      ],
      "metadata": {
        "id": "K5tvAnaQbZC_"
      },
      "execution_count": null,
      "outputs": []
    },
    {
      "cell_type": "code",
      "source": [
        "weather.query('station == \"GHCND:USW00094728\"')\\\n",
        "    .pivot(columns='datatype', values='value')[['SNOW', 'PRCP']]\\\n",
        "    .sum()"
      ],
      "metadata": {
        "id": "BGL2CoaybbJH"
      },
      "execution_count": null,
      "outputs": []
    },
    {
      "cell_type": "code",
      "source": [
        "weather.query('station == \"GHCND:USW00094728\"')\\\n",
        "    .pivot(columns='datatype', values='value')[['SNOW', 'PRCP']]\\\n",
        "    .agg('sum')"
      ],
      "metadata": {
        "id": "SuiHH-zhcAFG"
      },
      "execution_count": null,
      "outputs": []
    },
    {
      "cell_type": "code",
      "source": [
        "fb.agg({\n",
        "    'open': 'mean',\n",
        "    'high': ['min', 'max'],\n",
        "    'low': ['min', 'max'],\n",
        "    'close': 'mean'\n",
        "})"
      ],
      "metadata": {
        "id": "_bPySnBQcHC_"
      },
      "execution_count": null,
      "outputs": []
    },
    {
      "cell_type": "code",
      "source": [
        "fb.groupby('trading_volume').mean()"
      ],
      "metadata": {
        "id": "qsbRWwhecJtz"
      },
      "execution_count": null,
      "outputs": []
    }
  ]
}